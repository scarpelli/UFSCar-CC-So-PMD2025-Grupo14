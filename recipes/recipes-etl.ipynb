{
 "cells": [
  {
   "cell_type": "markdown",
   "metadata": {
    "application/vnd.databricks.v1+cell": {
     "cellMetadata": {
      "byteLimit": 2048000,
      "rowLimit": 10000
     },
     "inputWidgets": {},
     "nuid": "cee0a009-dbc7-499e-b7c6-c0496b0e026a",
     "showTitle": false,
     "tableResultSettingsMap": {},
     "title": ""
    }
   },
   "source": [
    "## ETL Recipes\n",
    "add description "
   ]
  },
  {
   "cell_type": "markdown",
   "metadata": {
    "application/vnd.databricks.v1+cell": {
     "cellMetadata": {
      "byteLimit": 2048000,
      "rowLimit": 10000
     },
     "inputWidgets": {},
     "nuid": "b7af4c52-11bb-4412-a51c-fbab88429e9e",
     "showTitle": false,
     "tableResultSettingsMap": {},
     "title": ""
    }
   },
   "source": [
    "### Initial configuration"
   ]
  },
  {
   "cell_type": "code",
   "execution_count": 0,
   "metadata": {
    "application/vnd.databricks.v1+cell": {
     "cellMetadata": {
      "byteLimit": 2048000,
      "rowLimit": 10000
     },
     "inputWidgets": {},
     "nuid": "c8cefc0c-94d9-4e7c-bd9a-eff3ad6a4e24",
     "showTitle": false,
     "tableResultSettingsMap": {},
     "title": ""
    }
   },
   "outputs": [],
   "source": [
    "dbutils.library.restartPython()"
   ]
  },
  {
   "cell_type": "code",
   "execution_count": 0,
   "metadata": {
    "application/vnd.databricks.v1+cell": {
     "cellMetadata": {
      "byteLimit": 2048000,
      "rowLimit": 10000
     },
     "inputWidgets": {},
     "nuid": "bbd2c729-b728-42a5-9bd0-a981d2812a62",
     "showTitle": true,
     "tableResultSettingsMap": {},
     "title": "imports"
    }
   },
   "outputs": [],
   "source": [
    "from pyspark.sql.types import StructType, StructField, StringType, FloatType, IntegerType, ArrayType\n",
    "from pyspark.sql.functions import split, regexp_replace, expr, lower, array_except, col, lit, array, transform, trim, filter, udf"
   ]
  },
  {
   "cell_type": "markdown",
   "metadata": {
    "application/vnd.databricks.v1+cell": {
     "cellMetadata": {
      "byteLimit": 2048000,
      "rowLimit": 10000
     },
     "inputWidgets": {},
     "nuid": "fcb2cba1-0c7f-48d8-afd2-241f32054dba",
     "showTitle": false,
     "tableResultSettingsMap": {},
     "title": ""
    }
   },
   "source": [
    "### Load recipes dataset in a Dataframe"
   ]
  },
  {
   "cell_type": "code",
   "execution_count": 0,
   "metadata": {
    "application/vnd.databricks.v1+cell": {
     "cellMetadata": {
      "byteLimit": 2048000,
      "rowLimit": 10000
     },
     "inputWidgets": {},
     "nuid": "d6e0174b-6a5e-4a94-a3ce-9becdfa981cd",
     "showTitle": false,
     "tableResultSettingsMap": {},
     "title": ""
    }
   },
   "outputs": [],
   "source": [
    "raw_recipes = spark.read.csv(\n",
    "    \"/Volumes/wine_harmonization/datasets/raw_datasets/RecipeNLG_dataset.csv\",\n",
    "    header=True,\n",
    "    inferSchema=True,\n",
    "    escape='\"'\n",
    ")"
   ]
  },
  {
   "cell_type": "code",
   "execution_count": 0,
   "metadata": {
    "application/vnd.databricks.v1+cell": {
     "cellMetadata": {
      "byteLimit": 2048000,
      "rowLimit": 10000
     },
     "inputWidgets": {},
     "nuid": "3e7d6060-cdd8-4af2-9ed8-5675daa12bb2",
     "showTitle": false,
     "tableResultSettingsMap": {},
     "title": ""
    }
   },
   "outputs": [],
   "source": [
    "display(raw_recipes.count())\n",
    "display(raw_recipes)"
   ]
  },
  {
   "cell_type": "markdown",
   "metadata": {
    "application/vnd.databricks.v1+cell": {
     "cellMetadata": {},
     "inputWidgets": {},
     "nuid": "d95e80c6-2149-4ffe-bfad-20b9bbfe11e6",
     "showTitle": false,
     "tableResultSettingsMap": {},
     "title": ""
    }
   },
   "source": [
    "### Load ingredient exclusion lexicon"
   ]
  },
  {
   "cell_type": "code",
   "execution_count": 0,
   "metadata": {
    "application/vnd.databricks.v1+cell": {
     "cellMetadata": {
      "byteLimit": 2048000,
      "rowLimit": 10000
     },
     "inputWidgets": {},
     "nuid": "d50d64f2-19ea-4e71-b622-04ccc0fe6fb5",
     "showTitle": false,
     "tableResultSettingsMap": {},
     "title": ""
    }
   },
   "outputs": [],
   "source": [
    "exclusion = spark.read.csv(\n",
    "    \"/Volumes/wine_harmonization/datasets/raw_datasets/ingredient_exclusion_lexicon.csv\",\n",
    "    header=True,\n",
    "    inferSchema=True,\n",
    "    comment='#'\n",
    ")\n",
    "\n",
    "exclusion = exclusion.withColumn(\"word\", lower(exclusion[\"word\"])).dropDuplicates(subset=[\"word\"])"
   ]
  },
  {
   "cell_type": "code",
   "execution_count": 0,
   "metadata": {
    "application/vnd.databricks.v1+cell": {
     "cellMetadata": {
      "byteLimit": 2048000,
      "rowLimit": 10000
     },
     "inputWidgets": {},
     "nuid": "f7924525-29ee-44f2-a5c7-81c31dacffbb",
     "showTitle": false,
     "tableResultSettingsMap": {},
     "title": ""
    }
   },
   "outputs": [],
   "source": [
    "display(exclusion)"
   ]
  },
  {
   "cell_type": "markdown",
   "metadata": {
    "application/vnd.databricks.v1+cell": {
     "cellMetadata": {},
     "inputWidgets": {},
     "nuid": "f8a35b05-e82b-4f8f-9d5a-1bffc7b0e1ad",
     "showTitle": false,
     "tableResultSettingsMap": {},
     "title": ""
    }
   },
   "source": [
    "### Clean rows"
   ]
  },
  {
   "cell_type": "code",
   "execution_count": 0,
   "metadata": {
    "application/vnd.databricks.v1+cell": {
     "cellMetadata": {
      "byteLimit": 2048000,
      "rowLimit": 10000
     },
     "inputWidgets": {},
     "nuid": "df386f76-78de-4cb4-a9c8-0736763add7e",
     "showTitle": false,
     "tableResultSettingsMap": {},
     "title": ""
    }
   },
   "outputs": [],
   "source": [
    "recipes_clean = raw_recipes.drop(\n",
    "    \"link\", \"directions\", \"source\", \"ingredients\"\n",
    ").dropna(subset=[\"title\", \"NER\"])"
   ]
  },
  {
   "cell_type": "code",
   "execution_count": 0,
   "metadata": {
    "application/vnd.databricks.v1+cell": {
     "cellMetadata": {
      "byteLimit": 2048000,
      "rowLimit": 10000
     },
     "inputWidgets": {},
     "nuid": "ef7f432b-be56-4f05-b641-2d264c718c65",
     "showTitle": false,
     "tableResultSettingsMap": {},
     "title": ""
    }
   },
   "outputs": [],
   "source": [
    "recipes_clean = recipes_clean.withColumnRenamed(\"_c0\", \"id\").withColumnRenamed(\"NER\", \"ingredients_list\")"
   ]
  },
  {
   "cell_type": "code",
   "execution_count": 0,
   "metadata": {
    "application/vnd.databricks.v1+cell": {
     "cellMetadata": {
      "byteLimit": 2048000,
      "rowLimit": 10000
     },
     "inputWidgets": {},
     "nuid": "7dcf5183-6149-4701-812f-507b462b45a4",
     "showTitle": false,
     "tableResultSettingsMap": {},
     "title": ""
    }
   },
   "outputs": [],
   "source": [
    "recipes_clean = (\n",
    "    recipes_clean\n",
    "    .withColumn(\"ingredients_list\", regexp_replace(\"ingredients_list\", r'[\\[\\]\\\"]', ''))\n",
    "    .withColumn(\"ingredients_list\", split(\"ingredients_list\", \",\"))\n",
    "    .withColumn(\"ingredients_list\", expr(\"transform(ingredients_list, x -> lower(x))\"))\n",
    "    .withColumn(\"ingredients_list\", expr(\"transform(ingredients_list, x -> trim(x))\"))\n",
    ")"
   ]
  },
  {
   "cell_type": "code",
   "execution_count": 0,
   "metadata": {
    "application/vnd.databricks.v1+cell": {
     "cellMetadata": {
      "byteLimit": 2048000,
      "rowLimit": 10000
     },
     "inputWidgets": {},
     "nuid": "a164cba2-d279-4f77-8dba-1a3d83fc41ba",
     "showTitle": false,
     "tableResultSettingsMap": {},
     "title": ""
    }
   },
   "outputs": [],
   "source": [
    "exclusion_words = [row['word'] for row in exclusion.select(\"word\").distinct().collect()]\n",
    "\n",
    "def remove_excluded_words(ingredients_list, exclusion_set):\n",
    "    if not ingredients_list:\n",
    "        return []\n",
    "    \n",
    "    result = []\n",
    "    for ingredient in ingredients_list:\n",
    "        if ingredient:\n",
    "            # Remover palavras da exclusão\n",
    "            words = ingredient.split()\n",
    "            filtered_words = [word for word in words if word not in exclusion_set]\n",
    "            filtered_ingredient = ' '.join(filtered_words).strip()\n",
    "            \n",
    "            if filtered_ingredient:\n",
    "                result.append(filtered_ingredient)\n",
    "    \n",
    "    return result\n",
    "\n",
    "exclusion_set = set(exclusion_words)\n",
    "\n",
    "remove_excluded_udf = udf(lambda ingredients: remove_excluded_words(ingredients, exclusion_set), ArrayType(StringType()))\n",
    "\n",
    "recipes_clean_test = (\n",
    "    recipes_clean\n",
    "    .withColumn(\"ingredients_list\", regexp_replace(\"ingredients_list\", r'[\\[\\]\\\"]', ''))\n",
    "    .withColumn(\"ingredients_list\", split(\"ingredients_list\", \",\"))\n",
    "    .withColumn(\"ingredients_list\", expr(\"transform(ingredients_list, x -> lower(trim(x)))\"))\n",
    "    .withColumn(\"ingredients_list\", remove_excluded_udf(col(\"ingredients_list\")))\n",
    ")"
   ]
  },
  {
   "cell_type": "code",
   "execution_count": 0,
   "metadata": {
    "application/vnd.databricks.v1+cell": {
     "cellMetadata": {
      "byteLimit": 2048000,
      "rowLimit": 10000
     },
     "inputWidgets": {},
     "nuid": "9417b1c5-8c7b-4f8a-80ee-f87d83e29d02",
     "showTitle": false,
     "tableResultSettingsMap": {},
     "title": ""
    }
   },
   "outputs": [],
   "source": [
    "recipes_clean_test.write.mode(\"overwrite\").saveAsTable(\"wine_harmonization.datasets.recipes_clean\")"
   ]
  },
  {
   "cell_type": "code",
   "execution_count": 0,
   "metadata": {
    "application/vnd.databricks.v1+cell": {
     "cellMetadata": {
      "byteLimit": 2048000,
      "rowLimit": 10000
     },
     "inputWidgets": {},
     "nuid": "3b5fa337-ace3-403b-8312-88805a3b1ed7",
     "showTitle": false,
     "tableResultSettingsMap": {},
     "title": ""
    }
   },
   "outputs": [],
   "source": [
    "recipes_clean = (\n",
    "    recipes_clean_test\n",
    "    .withColumn(\n",
    "        \"valid_ingredients\",\n",
    "        expr(\"\"\"\n",
    "            size(\n",
    "                filter(\n",
    "                    ingredients_list,\n",
    "                    x -> \n",
    "                        x rlike '^[a-z]'\n",
    "                )\n",
    "            ) = size(ingredients_list)\n",
    "        \"\"\")\n",
    "    )\n",
    "    .filter(\"valid_ingredients\")\n",
    "    .drop(\"valid_ingredients\")\n",
    ")"
   ]
  },
  {
   "cell_type": "code",
   "execution_count": 0,
   "metadata": {
    "application/vnd.databricks.v1+cell": {
     "cellMetadata": {
      "byteLimit": 2048000,
      "rowLimit": 10000
     },
     "inputWidgets": {},
     "nuid": "40f6f110-dc4a-47c6-a949-630cd3c1166c",
     "showTitle": false,
     "tableResultSettingsMap": {},
     "title": ""
    }
   },
   "outputs": [],
   "source": [
    "recipes = recipes_clean.dropDuplicates(subset=[\"title\"])"
   ]
  },
  {
   "cell_type": "code",
   "execution_count": 0,
   "metadata": {
    "application/vnd.databricks.v1+cell": {
     "cellMetadata": {
      "byteLimit": 2048000,
      "rowLimit": 10000
     },
     "inputWidgets": {},
     "nuid": "1342f2c2-f4eb-4e2a-9aed-4b24d0fbf35d",
     "showTitle": false,
     "tableResultSettingsMap": {},
     "title": ""
    }
   },
   "outputs": [],
   "source": [
    "display(recipes.count())\n",
    "display(recipes)"
   ]
  },
  {
   "cell_type": "markdown",
   "metadata": {
    "application/vnd.databricks.v1+cell": {
     "cellMetadata": {},
     "inputWidgets": {},
     "nuid": "490c3fe8-1814-463a-8b4c-43038f446697",
     "showTitle": false,
     "tableResultSettingsMap": {},
     "title": ""
    }
   },
   "source": [
    "### Save in a table"
   ]
  },
  {
   "cell_type": "code",
   "execution_count": 0,
   "metadata": {
    "application/vnd.databricks.v1+cell": {
     "cellMetadata": {
      "byteLimit": 2048000,
      "rowLimit": 10000
     },
     "inputWidgets": {},
     "nuid": "eea50d54-3ab6-439a-a8a1-ce46be1c33e4",
     "showTitle": false,
     "tableResultSettingsMap": {},
     "title": ""
    }
   },
   "outputs": [],
   "source": [
    "#recipes.write.mode(\"overwrite\").saveAsTable(\"wine_harmonization.datasets.recipes\")"
   ]
  }
 ],
 "metadata": {
  "application/vnd.databricks.v1+notebook": {
   "computePreferences": null,
   "dashboards": [],
   "environmentMetadata": {
    "base_environment": "",
    "environment_version": "2"
   },
   "inputWidgetPreferences": null,
   "language": "python",
   "notebookMetadata": {
    "mostRecentlyExecutedCommandWithImplicitDF": {
     "commandId": -1,
     "dataframes": [
      "_sqldf"
     ]
    },
    "pythonIndentUnit": 4
   },
   "notebookName": "recipes-etl",
   "widgets": {}
  },
  "language_info": {
   "name": "python"
  }
 },
 "nbformat": 4,
 "nbformat_minor": 0
}
