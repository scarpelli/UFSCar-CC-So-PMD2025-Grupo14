{
 "cells": [
  {
   "cell_type": "markdown",
   "metadata": {
    "application/vnd.databricks.v1+cell": {
     "cellMetadata": {
      "byteLimit": 2048000,
      "rowLimit": 10000
     },
     "inputWidgets": {},
     "nuid": "aa3241c5-6058-45bb-8e52-fb153a11bd1f",
     "showTitle": false,
     "tableResultSettingsMap": {},
     "title": ""
    }
   },
   "source": [
    "# Neo4j integration\n",
    "_TODO: ADD DESC_"
   ]
  },
  {
   "cell_type": "markdown",
   "metadata": {
    "application/vnd.databricks.v1+cell": {
     "cellMetadata": {
      "byteLimit": 2048000,
      "rowLimit": 10000
     },
     "inputWidgets": {},
     "nuid": "9e76d41a-35b9-4dc7-a3e7-8f44fec936de",
     "showTitle": false,
     "tableResultSettingsMap": {},
     "title": ""
    }
   },
   "source": [
    "### Initial configuration"
   ]
  },
  {
   "cell_type": "code",
   "execution_count": 0,
   "metadata": {
    "application/vnd.databricks.v1+cell": {
     "cellMetadata": {
      "byteLimit": 2048000,
      "rowLimit": 10000
     },
     "inputWidgets": {},
     "nuid": "b7b2046f-eccf-40e5-bb31-7a22178bbbc4",
     "showTitle": false,
     "tableResultSettingsMap": {},
     "title": ""
    }
   },
   "outputs": [],
   "source": [
    "!pip install neo4j"
   ]
  },
  {
   "cell_type": "code",
   "execution_count": 0,
   "metadata": {
    "application/vnd.databricks.v1+cell": {
     "cellMetadata": {
      "byteLimit": 2048000,
      "rowLimit": 10000
     },
     "inputWidgets": {},
     "nuid": "a8daa83c-d657-4221-acd0-b17501df23de",
     "showTitle": true,
     "tableResultSettingsMap": {},
     "title": "imports"
    }
   },
   "outputs": [],
   "source": [
    "from neo4j import GraphDatabase\n",
    "import os\n",
    "from pyspark.sql.functions import explode, lower, col"
   ]
  },
  {
   "cell_type": "markdown",
   "metadata": {
    "application/vnd.databricks.v1+cell": {
     "cellMetadata": {
      "byteLimit": 2048000,
      "rowLimit": 10000
     },
     "inputWidgets": {},
     "nuid": "090c10d7-95b9-4e17-9e20-80571d9c28e5",
     "showTitle": false,
     "tableResultSettingsMap": {},
     "title": ""
    }
   },
   "source": [
    "## Connection"
   ]
  },
  {
   "cell_type": "markdown",
   "metadata": {
    "application/vnd.databricks.v1+cell": {
     "cellMetadata": {
      "byteLimit": 2048000,
      "rowLimit": 10000
     },
     "inputWidgets": {},
     "nuid": "c3896b3b-fa95-4f0c-820c-ad50890485ba",
     "showTitle": false,
     "tableResultSettingsMap": {},
     "title": ""
    }
   },
   "source": [
    "### Retrieve credentials"
   ]
  },
  {
   "cell_type": "code",
   "execution_count": 0,
   "metadata": {
    "application/vnd.databricks.v1+cell": {
     "cellMetadata": {
      "byteLimit": 2048000,
      "rowLimit": 10000
     },
     "inputWidgets": {},
     "nuid": "655ff94c-18a8-4ceb-b21a-e9193f2954d3",
     "showTitle": false,
     "tableResultSettingsMap": {},
     "title": ""
    }
   },
   "outputs": [],
   "source": [
    "NEO4J_URI      = 'neo4j+s://26bf28ec.databases.neo4j.io'\n",
    "NEO4J_USER     = 'neo4j'\n",
    "NEO4J_PASSWORD = 'WoxS-9-NFzGjZ8bzW3ot8PxAOYozTOHs5cp0ajmZy58'"
   ]
  },
  {
   "cell_type": "markdown",
   "metadata": {
    "application/vnd.databricks.v1+cell": {
     "cellMetadata": {
      "byteLimit": 2048000,
      "rowLimit": 10000
     },
     "inputWidgets": {},
     "nuid": "3bfa8eb0-2f9d-43d8-9cb9-fe5ab94c11ef",
     "showTitle": false,
     "tableResultSettingsMap": {},
     "title": ""
    }
   },
   "source": [
    "### Test connection"
   ]
  },
  {
   "cell_type": "code",
   "execution_count": 0,
   "metadata": {
    "application/vnd.databricks.v1+cell": {
     "cellMetadata": {
      "byteLimit": 2048000,
      "rowLimit": 10000
     },
     "inputWidgets": {},
     "nuid": "45bfedf5-40a6-4620-b1d9-4534664da791",
     "showTitle": false,
     "tableResultSettingsMap": {},
     "title": ""
    }
   },
   "outputs": [],
   "source": [
    "def test_connection(driver):\n",
    "    print(\"Testing Neo4j connection...\")\n",
    "    with driver.session() as session:\n",
    "        result = session.run(\"MATCH (n) RETURN n LIMIT 1\")\n",
    "        for record in result:\n",
    "            print(\"Record:\", record)\n",
    "    print(\"Connection test completed.\")"
   ]
  },
  {
   "cell_type": "code",
   "execution_count": 0,
   "metadata": {
    "application/vnd.databricks.v1+cell": {
     "cellMetadata": {
      "byteLimit": 2048000,
      "rowLimit": 10000
     },
     "inputWidgets": {},
     "nuid": "bb6be013-e82a-401b-803e-6593a067fe0a",
     "showTitle": false,
     "tableResultSettingsMap": {},
     "title": ""
    }
   },
   "outputs": [],
   "source": [
    "\n",
    "print(\"Creating Neo4j driver instance...\")\n",
    "driver = GraphDatabase.driver(NEO4J_URI, auth=(NEO4J_USER, NEO4J_PASSWORD))\n",
    "\n",
    "test_connection(driver)\n",
    "\n",
    "print(\"Closing Neo4j driver...\")\n",
    "driver.close()\n",
    "print(\"Driver closed.\")"
   ]
  },
  {
   "cell_type": "code",
   "execution_count": 0,
   "metadata": {
    "application/vnd.databricks.v1+cell": {
     "cellMetadata": {
      "byteLimit": 2048000,
      "rowLimit": 10000
     },
     "inputWidgets": {},
     "nuid": "a3237ed5-593f-4857-a420-0f851ecd5bd4",
     "showTitle": false,
     "tableResultSettingsMap": {},
     "title": ""
    }
   },
   "outputs": [],
   "source": [
    "print(\"Deleting all nodes and relationships in Neo4j...\")\n",
    "with driver.session() as session:\n",
    "     session.run(\"MATCH (n) DETACH DELETE n\")\n",
    "print(\"Deletion completed.\")"
   ]
  },
  {
   "cell_type": "markdown",
   "metadata": {
    "application/vnd.databricks.v1+cell": {
     "cellMetadata": {
      "byteLimit": 2048000,
      "rowLimit": 10000
     },
     "inputWidgets": {},
     "nuid": "9ed69a61-a654-4b7e-ac7c-6f39a86d49ea",
     "showTitle": false,
     "tableResultSettingsMap": {},
     "title": ""
    }
   },
   "source": [
    "## Schema definition"
   ]
  },
  {
   "cell_type": "code",
   "execution_count": 0,
   "metadata": {
    "application/vnd.databricks.v1+cell": {
     "cellMetadata": {
      "byteLimit": 2048000,
      "rowLimit": 10000
     },
     "inputWidgets": {},
     "nuid": "44891f1e-1260-4de7-a4d6-1c6788904089",
     "showTitle": false,
     "tableResultSettingsMap": {},
     "title": ""
    }
   },
   "outputs": [],
   "source": [
    "molecules_df = spark.table(\"wine_harmonization.datasets.molecules\")\n",
    "wines_df = spark.table(\"wine_harmonization.datasets.wines\")\n",
    "ingredients_df = spark.table(\"wine_harmonization.datasets.ingredients_molecules\") \\\n",
    "    .withColumn(\"entity_alias_readable\", lower(col(\"entity_alias_readable\"))) \\\n",
    "    .dropDuplicates([\"title\"])\n",
    "recipes_df = spark.table(\"wine_harmonization.datasets.recipes\").limit(10000)"
   ]
  },
  {
   "cell_type": "code",
   "execution_count": 0,
   "metadata": {
    "application/vnd.databricks.v1+cell": {
     "cellMetadata": {
      "byteLimit": 2048000,
      "rowLimit": 10000
     },
     "inputWidgets": {},
     "nuid": "2461c05f-a94b-41fd-a058-e6b578eb44e9",
     "showTitle": false,
     "tableResultSettingsMap": {},
     "title": ""
    }
   },
   "outputs": [],
   "source": [
    "display(recipes_df)     "
   ]
  },
  {
   "cell_type": "code",
   "execution_count": 0,
   "metadata": {
    "application/vnd.databricks.v1+cell": {
     "cellMetadata": {
      "byteLimit": 2048000,
      "rowLimit": 10000
     },
     "inputWidgets": {},
     "nuid": "0b7280d2-99f2-434d-bcc6-7940495e3c02",
     "showTitle": false,
     "tableResultSettingsMap": {
      "0": {
       "dataGridStateBlob": "{\"version\":1,\"tableState\":{\"columnPinning\":{\"left\":[\"#row_number#\"],\"right\":[]},\"columnSizing\":{},\"columnVisibility\":{}},\"settings\":{\"columns\":{}},\"syncTimestamp\":1752641902081}",
       "filterBlob": null,
       "queryPlanFiltersBlob": null,
       "tableResultIndex": 0
      }
     },
     "title": ""
    }
   },
   "outputs": [],
   "source": [
    "display(wines_df)     "
   ]
  },
  {
   "cell_type": "code",
   "execution_count": 0,
   "metadata": {
    "application/vnd.databricks.v1+cell": {
     "cellMetadata": {
      "byteLimit": 2048000,
      "rowLimit": 10000
     },
     "inputWidgets": {},
     "nuid": "f395cb15-8f54-4fa9-9d85-35b021b76215",
     "showTitle": false,
     "tableResultSettingsMap": {},
     "title": ""
    }
   },
   "outputs": [],
   "source": [
    "# Databricks → Neo4j bulk insert (batch = 100, logs mínimos, compatível DBX Free)\n",
    "# Preencha suas credenciais👇\n",
    "uri      = 'neo4j+s://26bf28ec.databases.neo4j.io'\n",
    "user     = 'neo4j'\n",
    "password = 'WoxS-9-NFzGjZ8bzW3ot8PxAOYozTOHs5cp0ajmZy58'\n",
    "\n",
    "from pyspark.sql.functions import explode, col, lower, trim\n",
    "from neo4j import GraphDatabase\n",
    "\n",
    "batch_size = 100  # loga a cada 100 registros\n",
    "\n",
    "# ────────────────────────────────────────────────────────────────────────────────\n",
    "# 1. Constraints (uma vez só) ────────────────────────────────────────────────────\n",
    "# ────────────────────────────────────────────────────────────────────────────────\n",
    "with GraphDatabase.driver(uri, auth=(user, password)) as drv:\n",
    "    with drv.session() as s:\n",
    "        for cmd in [\n",
    "            \"CREATE CONSTRAINT IF NOT EXISTS FOR (n:Flavor)     REQUIRE n.name        IS UNIQUE\",\n",
    "            \"CREATE CONSTRAINT IF NOT EXISTS FOR (n:Molecule)   REQUIRE n.pubchem_id  IS UNIQUE\",\n",
    "            \"CREATE CONSTRAINT IF NOT EXISTS FOR (n:Ingredient) REQUIRE n.name        IS UNIQUE\",\n",
    "            \"CREATE CONSTRAINT IF NOT EXISTS FOR (n:Recipe)     REQUIRE n.id          IS UNIQUE\",\n",
    "            \"CREATE CONSTRAINT IF NOT EXISTS FOR (n:Grape)      REQUIRE n.name        IS UNIQUE\",\n",
    "            \"CREATE CONSTRAINT IF NOT EXISTS FOR (n:PriceRange) REQUIRE n.name        IS UNIQUE\",\n",
    "        ]:\n",
    "            s.run(cmd)\n",
    "print(\"✅ Constraints criadas\")\n",
    "\n",
    "# ────────────────────────────────────────────────────────────────────────────────\n",
    "# 2. PriceRange fixos ────────────────────────────────────────────────────────────\n",
    "# ────────────────────────────────────────────────────────────────────────────────\n",
    "with GraphDatabase.driver(uri, auth=(user, password)) as drv:\n",
    "    with drv.session() as s:\n",
    "        s.run(\"UNWIND $x AS name MERGE (:PriceRange {name:name})\", x=[\"Budget\",\"Mid-range\",\"Premium\",\"Luxury\"])\n",
    "print(\"✅ PriceRange inseridos\")\n",
    "\n",
    "# ────────────────────────────────────────────────────────────────────────────────\n",
    "# Helper: gera função foreachPartition para inserir batches de 100 ───────────────\n",
    "# ────────────────────────────────────────────────────────────────────────────────\n",
    "\n",
    "def make_processor(build_item_fn, cypher):\n",
    "    \"\"\"build_item_fn(row) -> dict  |  cypher usa UNWIND $batch\"\"\"\n",
    "    def _proc(rows):\n",
    "        drv = GraphDatabase.driver(uri, auth=(user, password))\n",
    "        with drv.session() as sess:\n",
    "            batch = []\n",
    "            inserted = 0\n",
    "            for row in rows:\n",
    "                item = build_item_fn(row)\n",
    "                if item is None:\n",
    "                    continue\n",
    "                batch.append(item)\n",
    "                if len(batch) == batch_size:\n",
    "                    sess.run(cypher, batch=batch)\n",
    "                    inserted += len(batch)\n",
    "                    print(f\"  → {inserted} inseridos\")\n",
    "                    batch = []\n",
    "            if batch:\n",
    "                sess.run(cypher, batch=batch)\n",
    "                inserted += len(batch)\n",
    "                print(f\"  → {inserted} inseridos (final)\")\n",
    "        drv.close()\n",
    "    return _proc\n",
    "\n",
    "# ────────────────────────────────────────────────────────────────────────────────\n",
    "# 3. Flavors ─────────────────────────────────────────────────────────────────────\n",
    "# ────────────────────────────────────────────────────────────────────────────────\n",
    "flavor_df = (\n",
    "    molecules_df.select(explode(\"flavor_array\").alias(\"fl\"))\n",
    "    .union(wines_df.select(explode(\"Characteristics\").alias(\"fl\")))\n",
    "    .withColumn(\"fl\", trim(lower(col(\"fl\"))))\n",
    "    .filter(col(\"fl\") != \"\")\n",
    "    .distinct()\n",
    ")\n",
    "\n",
    "flavor_cypher = \"UNWIND $batch AS name MERGE (:Flavor {name:name})\"\n",
    "flavor_df.foreachPartition(\n",
    "    make_processor(lambda r: r.fl, flavor_cypher)\n",
    ")\n",
    "print(\"✅ Flavors inseridos\")\n",
    "\n",
    "# ────────────────────────────────────────────────────────────────────────────────\n",
    "# 4. Grapes ──────────────────────────────────────────────────────────────────────\n",
    "# ────────────────────────────────────────────────────────────────────────────────\n",
    "\n",
    "grape_df = wines_df.select(trim(col(\"Grape\")).alias(\"gr\")).filter(col(\"gr\") != \"\").distinct()\n",
    "\n",
    "grape_cypher = \"UNWIND $batch AS name MERGE (:Grape {name:name})\"\n",
    "grape_df.foreachPartition(\n",
    "    make_processor(lambda r: r.gr, grape_cypher)\n",
    ")\n",
    "print(\"✅ Grapes inseridos\")\n",
    "\n",
    "# ────────────────────────────────────────────────────────────────────────────────\n",
    "# 5. Molecules + HAS_FLAVOR_PROFILE ─────────────────────────────────────────────\n",
    "# ────────────────────────────────────────────────────────────────────────────────\n",
    "\n",
    "def mol_item(r):\n",
    "    if r.pubchem_id is None:\n",
    "        return None\n",
    "    return {\n",
    "        \"pubchem_id\": int(r.pubchem_id),\n",
    "        \"name\": r.common_name,\n",
    "        \"mw\": float(r.molecular_weight) if r.molecular_weight is not None else None,\n",
    "        \"fl\": [x.strip().lower() for x in r.flavor_array] if r.flavor_array else []\n",
    "    }\n",
    "\n",
    "mol_cypher = \"\"\"\n",
    "UNWIND $batch AS row\n",
    "MERGE (m:Molecule {pubchem_id:row.pubchem_id})\n",
    "SET m.name = row.name, m.molecular_weight = row.mw\n",
    "WITH m, row.fl AS flavors\n",
    "UNWIND flavors AS f\n",
    "MATCH (fl:Flavor {name:f})\n",
    "MERGE (m)-[:HAS_FLAVOR_PROFILE]->(fl)\n",
    "\"\"\"\n",
    "\n",
    "molecules_df.select(\"common_name\",\"pubchem_id\",\"molecular_weight\",\"flavor_array\").foreachPartition(\n",
    "    make_processor(mol_item, mol_cypher)\n",
    ")\n",
    "print(\"✅ Molecules inseridos\")\n",
    "\n",
    "# ────────────────────────────────────────────────────────────────────────────────\n",
    "# 6. Ingredients + CONTAINS_MOLECULE ─────────────────────────────────────────────\n",
    "# ────────────────────────────────────────────────────────────────────────────────\n",
    "\n",
    "def ing_item(r):\n",
    "    if not r.entity_alias_readable or not r.pubchem_ids:\n",
    "        return None\n",
    "    return {\"name\": r.entity_alias_readable, \"ids\": [int(x) for x in r.pubchem_ids]}\n",
    "\n",
    "ing_cypher = \"\"\"\n",
    "UNWIND $batch AS row\n",
    "MERGE (i:Ingredient {name:row.name})\n",
    "WITH i, row.ids AS ids\n",
    "UNWIND ids AS pid\n",
    "MATCH (m:Molecule {pubchem_id:pid})\n",
    "MERGE (i)-[:CONTAINS_MOLECULE]->(m)\n",
    "\"\"\"\n",
    "\n",
    "ingredients_df.select(\"entity_alias_readable\",\"pubchem_ids\").foreachPartition(\n",
    "    make_processor(ing_item, ing_cypher)\n",
    ")\n",
    "print(\"✅ Ingredients inseridos\")\n",
    "\n",
    "# ────────────────────────────────────────────────────────────────────────────────\n",
    "# 7. Recipes + CONTAINS_INGREDIENT ───────────────────────────────────────────────\n",
    "# ────────────────────────────────────────────────────────────────────────────────\n",
    "\n",
    "def rec_item(r):\n",
    "    if r.id is None or r.title is None:\n",
    "        return None\n",
    "    return {\"id\": int(r.id), \"title\": r.title, \"ings\": r.ingredients_list or []}\n",
    "\n",
    "rec_cypher = \"\"\"\n",
    "UNWIND $batch AS row\n",
    "MERGE (r:Recipe {id: row.id})\n",
    "SET r.title = row.title\n",
    "WITH r, coalesce(row.ings, []) AS ings\n",
    "UNWIND ings AS ing\n",
    "MERGE (i:Ingredient {name: ing})\n",
    "MERGE (r)-[:CONTAINS_INGREDIENT]->(i);\n",
    "\"\"\"\n",
    "\n",
    "recipes_df.select(\"id\",\"title\",\"ingredients_list\").foreachPartition(\n",
    "    make_processor(rec_item, rec_cypher)\n",
    ")\n",
    "print(\"✅ Recipes inseridos\")\n",
    "\n",
    "# ────────────────────────────────────────────────────────────────────────────────\n",
    "# 8. Wines + relações ────────────────────────────────────────────────────────────\n",
    "# ────────────────────────────────────────────────────────────────────────────────\n",
    "\n",
    "def wine_item(r):\n",
    "    if r.Title is None:\n",
    "        return None\n",
    "    price = float(r.Price) if r.Price is not None else 0.0\n",
    "    if price <= 100:\n",
    "        pr = \"Budget\"\n",
    "    elif price <= 200:\n",
    "        pr = \"Mid-range\"\n",
    "    elif price <= 500:\n",
    "        pr = \"Premium\"\n",
    "    else:\n",
    "        pr = \"Luxury\"\n",
    "    return {\n",
    "        \"title\": r.Title,\n",
    "        \"type\": r.Type,\n",
    "        \"price\": price,\n",
    "        \"grape\": r.Grape,\n",
    "        \"chars\": [x.strip().lower() for x in r.Characteristics] if r.Characteristics else [],\n",
    "        \"pr\": pr\n",
    "    }\n",
    "\n",
    "wine_cypher = \"\"\"\n",
    "UNWIND $batch AS row\n",
    "MERGE (w:Wine {title:row.title})\n",
    "SET w.type = row.type, w.price = row.price\n",
    "WITH w, row\n",
    "MATCH (g:Grape {name: row.grape})\n",
    "MERGE (w)-[:MADE_FROM]->(g)\n",
    "WITH w, row\n",
    "UNWIND row.chars AS ch\n",
    "MATCH (f:Flavor {name:ch})\n",
    "MERGE (w)-[:HAS_CHARACTERISTIC]->(f)\n",
    "WITH w, row\n",
    "MATCH (pr:PriceRange {name:row.pr})\n",
    "MERGE (w)-[:IN_PRICE_RANGE]->(pr)\n",
    "\"\"\"\n",
    "\n",
    "wines_df.select(\"Title\",\"Type\",\"Price\",\"Grape\",\"Characteristics\").foreachPartition(\n",
    "    make_processor(wine_item, wine_cypher)\n",
    ")\n",
    "print(\"✅ Wines inseridos | Processo completo 🎉\")"
   ]
  }
 ],
 "metadata": {
  "application/vnd.databricks.v1+notebook": {
   "computePreferences": null,
   "dashboards": [],
   "environmentMetadata": {
    "base_environment": "",
    "environment_version": "2"
   },
   "inputWidgetPreferences": null,
   "language": "python",
   "notebookMetadata": {
    "mostRecentlyExecutedCommandWithImplicitDF": {
     "commandId": 8023300932153866,
     "dataframes": [
      "_sqldf"
     ]
    },
    "pythonIndentUnit": 4
   },
   "notebookName": "(Clone) neo4j-integration",
   "widgets": {}
  },
  "language_info": {
   "name": "python"
  }
 },
 "nbformat": 4,
 "nbformat_minor": 0
}
