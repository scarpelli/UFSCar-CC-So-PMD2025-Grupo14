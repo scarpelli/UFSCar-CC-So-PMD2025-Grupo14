{
 "cells": [
  {
   "cell_type": "code",
   "execution_count": 0,
   "metadata": {
    "application/vnd.databricks.v1+cell": {
     "cellMetadata": {
      "byteLimit": 2048000,
      "rowLimit": 10000
     },
     "inputWidgets": {},
     "nuid": "d9d77e6a-8ecb-4d14-b3b4-1a8882926922",
     "showTitle": false,
     "tableResultSettingsMap": {},
     "title": ""
    }
   },
   "outputs": [],
   "source": [
    "from pyspark.sql.functions import col, explode, collect_list"
   ]
  },
  {
   "cell_type": "code",
   "execution_count": 0,
   "metadata": {
    "application/vnd.databricks.v1+cell": {
     "cellMetadata": {
      "byteLimit": 2048000,
      "rowLimit": 10000
     },
     "inputWidgets": {},
     "nuid": "2dcd66d8-5fc5-44a3-9820-2c6a01cb5c11",
     "showTitle": false,
     "tableResultSettingsMap": {},
     "title": ""
    }
   },
   "outputs": [],
   "source": [
    "df = (spark.read\n",
    "      .format(\"json\")\n",
    "      .option(\"multiLine\", True)\n",
    "      .load(\"/Volumes/wine_harmonization/datasets/raw_datasets/flavor_profiles_v4/\"))"
   ]
  },
  {
   "cell_type": "code",
   "execution_count": 0,
   "metadata": {
    "application/vnd.databricks.v1+cell": {
     "cellMetadata": {
      "byteLimit": 2048000,
      "rowLimit": 10000
     },
     "inputWidgets": {},
     "nuid": "bb29d18e-3fe1-4b1b-b45e-ae24faf404cb",
     "showTitle": false,
     "tableResultSettingsMap": {},
     "title": ""
    }
   },
   "outputs": [],
   "source": [
    "df_exploded = df.select(\n",
    "    \"entity_alias_readable\",\n",
    "    explode(\"molecules\").alias(\"mol\")\n",
    ")\n",
    "\n",
    "df_final = df_exploded.select(\n",
    "    col(\"entity_alias_readable\"),\n",
    "    col(\"mol.common_name\").alias(\"common_name\"),\n",
    "    col(\"mol.fema_flavor_profile\").alias(\"fema_flavor_profile\"),\n",
    "    col(\"mol.molecular_weight\").alias(\"molecular_weight\"),\n",
    "    col(\"mol.odor\").alias(\"odor\"),\n",
    "    col(\"mol.flavor_profile\").alias(\"flavor_profile\"),\n",
    "    col(\"mol.functional_groups\").alias(\"functional_groups\"),\n",
    "    col(\"mol.pubchem_id\").alias(\"pubchem_id\")\n",
    ")\n",
    "\n",
    "display(df_final)"
   ]
  },
  {
   "cell_type": "code",
   "execution_count": 0,
   "metadata": {
    "application/vnd.databricks.v1+cell": {
     "cellMetadata": {
      "byteLimit": 2048000,
      "rowLimit": 10000
     },
     "inputWidgets": {},
     "nuid": "6c6b1c5f-06df-46ab-a94e-900cc32ec4cb",
     "showTitle": false,
     "tableResultSettingsMap": {},
     "title": ""
    }
   },
   "outputs": [],
   "source": [
    "df_ingredients = df_final.groupBy(\"entity_alias_readable\").agg(\n",
    "    collect_list(\"common_name\").alias(\"molecules\"),\n",
    "    collect_list(\"pubchem_id\").alias(\"pubchem_ids\")\n",
    ")\n",
    "\n",
    "display(df_ingredients)"
   ]
  },
  {
   "cell_type": "code",
   "execution_count": 0,
   "metadata": {
    "application/vnd.databricks.v1+cell": {
     "cellMetadata": {
      "byteLimit": 2048000,
      "rowLimit": 10000
     },
     "inputWidgets": {},
     "nuid": "e3ab4077-e777-4ad0-931f-71928dd47164",
     "showTitle": false,
     "tableResultSettingsMap": {},
     "title": ""
    }
   },
   "outputs": [],
   "source": [
    "df_ingredients.write.mode(\"overwrite\").saveAsTable(\"wine_harmonization.datasets.ingredients_molecules\")"
   ]
  },
  {
   "cell_type": "markdown",
   "metadata": {
    "application/vnd.databricks.v1+cell": {
     "cellMetadata": {
      "byteLimit": 2048000,
      "rowLimit": 10000
     },
     "inputWidgets": {},
     "nuid": "d2056c3d-23c1-495d-b2a9-cbd6d69f7ab9",
     "showTitle": false,
     "tableResultSettingsMap": {},
     "title": ""
    }
   },
   "source": [
    "### Molecules table"
   ]
  },
  {
   "cell_type": "code",
   "execution_count": 0,
   "metadata": {
    "application/vnd.databricks.v1+cell": {
     "cellMetadata": {
      "byteLimit": 2048000,
      "rowLimit": 10000
     },
     "inputWidgets": {},
     "nuid": "64d78d7c-c6dc-4e4c-962d-515280e0e134",
     "showTitle": false,
     "tableResultSettingsMap": {
      "0": {
       "dataGridStateBlob": "{\"version\":1,\"tableState\":{\"columnPinning\":{\"left\":[\"#row_number#\"],\"right\":[]},\"columnSizing\":{},\"columnVisibility\":{}},\"settings\":{\"columns\":{}},\"syncTimestamp\":1752617703759}",
       "filterBlob": null,
       "queryPlanFiltersBlob": null,
       "tableResultIndex": 0
      }
     },
     "title": ""
    }
   },
   "outputs": [],
   "source": [
    "df_molecules = df_final.drop(\"entity_alias_readable\", \"odor\", \"functional_groups\", \"flavor_profile\").dropDuplicates([\"pubchem_id\"])\n",
    "display(df_molecules)"
   ]
  },
  {
   "cell_type": "code",
   "execution_count": 0,
   "metadata": {
    "application/vnd.databricks.v1+cell": {
     "cellMetadata": {
      "byteLimit": 2048000,
      "rowLimit": 10000
     },
     "inputWidgets": {},
     "nuid": "e948473f-b9d0-458c-b4fa-2aa3548ba70a",
     "showTitle": false,
     "tableResultSettingsMap": {
      "0": {
       "dataGridStateBlob": "{\"version\":1,\"tableState\":{\"columnPinning\":{\"left\":[\"#row_number#\"],\"right\":[]},\"columnSizing\":{},\"columnVisibility\":{}},\"settings\":{\"columns\":{}},\"syncTimestamp\":1752615705440}",
       "filterBlob": null,
       "queryPlanFiltersBlob": null,
       "tableResultIndex": 0
      }
     },
     "title": ""
    }
   },
   "outputs": [],
   "source": [
    "from pyspark.sql.functions import (\n",
    "    split,\n",
    "    regexp_replace,\n",
    "    expr,\n",
    "    flatten,\n",
    "    array_distinct,\n",
    "    initcap,\n",
    "    trim,\n",
    "    length\n",
    ")\n",
    "\n",
    "df_final = (\n",
    "    df_molecules\n",
    "    # 1. Tokeniza (remove aspas, separa em \"@\", depois em vírgula) e achata\n",
    "    .withColumn(\n",
    "        \"tokens_raw\",\n",
    "        flatten(\n",
    "            expr(\"\"\"\n",
    "                transform(\n",
    "                    split(regexp_replace(fema_flavor_profile, '\"', ''), '@'),\n",
    "                    x -> split(x, '\\\\s*,\\\\s*')\n",
    "                )\n",
    "            \"\"\")\n",
    "        )\n",
    "    )\n",
    "    # 2. Limpa brancos e capitaliza\n",
    "    .withColumn(\n",
    "        \"tokens_cleaned\",\n",
    "        expr(\"\"\"\n",
    "            transform(\n",
    "                filter(tokens_raw, x -> trim(x) <> ''),\n",
    "                x -> initcap(trim(x))\n",
    "            )\n",
    "        \"\"\")\n",
    "    )\n",
    "    # 3. Filtra apenas tokens curtos (<=20 caracteres)\n",
    "    .withColumn(\n",
    "        \"tokens_short\",\n",
    "        expr(\"filter(tokens_cleaned, x -> length(x) <= 20)\")\n",
    "    )\n",
    "    # 4. Remove duplicatas e já renomeia pra coluna final\n",
    "    .withColumn(\"flavor_array\", array_distinct(\"tokens_short\"))\n",
    "    # 5. Elimina colunas intermediárias\n",
    "    .drop(\"tokens_raw\", \"tokens_cleaned\", \"tokens_short\", \"fema_flavor_profile\")\n",
    ")\n",
    "\n",
    "display(df_final)"
   ]
  },
  {
   "cell_type": "code",
   "execution_count": 0,
   "metadata": {
    "application/vnd.databricks.v1+cell": {
     "cellMetadata": {
      "byteLimit": 2048000,
      "rowLimit": 10000
     },
     "inputWidgets": {},
     "nuid": "a3a68a50-a7e4-42d0-809d-386938d044ec",
     "showTitle": false,
     "tableResultSettingsMap": {},
     "title": ""
    }
   },
   "outputs": [],
   "source": [
    "df_final.write.mode(\"overwrite\").saveAsTable(\"wine_harmonization.datasets.molecules\")"
   ]
  },
  {
   "cell_type": "code",
   "execution_count": 0,
   "metadata": {
    "application/vnd.databricks.v1+cell": {
     "cellMetadata": {
      "byteLimit": 2048000,
      "rowLimit": 10000
     },
     "inputWidgets": {},
     "nuid": "9da01030-3399-4171-a2ea-ba49aa77571e",
     "showTitle": false,
     "tableResultSettingsMap": {
      "0": {
       "dataGridStateBlob": "{\"version\":1,\"tableState\":{\"columnPinning\":{\"left\":[\"#row_number#\"],\"right\":[]},\"columnSizing\":{},\"columnVisibility\":{}},\"settings\":{\"columns\":{}},\"syncTimestamp\":1752624514314}",
       "filterBlob": null,
       "queryPlanFiltersBlob": null,
       "tableResultIndex": 0
      }
     },
     "title": ""
    }
   },
   "outputs": [],
   "source": [
    "from pyspark.sql.functions import explode\n",
    "\n",
    "df_final = spark.read.table(\"wine_harmonization.datasets.molecules\")\n",
    "\n",
    "distinct_flavors = df_final.select(explode(\"flavor_array\").alias(\"flavor\")).distinct()\n",
    "\n",
    "display(distinct_flavors)"
   ]
  },
  {
   "cell_type": "code",
   "execution_count": 0,
   "metadata": {
    "application/vnd.databricks.v1+cell": {
     "cellMetadata": {
      "byteLimit": 2048000,
      "implicitDf": true,
      "rowLimit": 10000
     },
     "inputWidgets": {},
     "nuid": "7f6d3fc1-4b19-4b46-b1e3-676cbe84b33a",
     "showTitle": false,
     "tableResultSettingsMap": {},
     "title": ""
    }
   },
   "outputs": [],
   "source": [
    "%sql\n",
    "select * from wine_harmonization.datasets.molecules limit 10"
   ]
  },
  {
   "cell_type": "code",
   "execution_count": 0,
   "metadata": {
    "application/vnd.databricks.v1+cell": {
     "cellMetadata": {
      "byteLimit": 2048000,
      "implicitDf": true,
      "rowLimit": 10000
     },
     "inputWidgets": {},
     "nuid": "8e3c60ab-4b36-4754-aa2b-a38d0c247584",
     "showTitle": false,
     "tableResultSettingsMap": {},
     "title": ""
    }
   },
   "outputs": [],
   "source": [
    "%sql\n",
    "select * from wine_harmonization.datasets.ingredients_molecules limit 10"
   ]
  },
  {
   "cell_type": "code",
   "execution_count": 0,
   "metadata": {
    "application/vnd.databricks.v1+cell": {
     "cellMetadata": {
      "byteLimit": 2048000,
      "implicitDf": true,
      "rowLimit": 10000
     },
     "inputWidgets": {},
     "nuid": "fe1db27f-8266-4503-b392-8a39503744f4",
     "showTitle": false,
     "tableResultSettingsMap": {},
     "title": ""
    }
   },
   "outputs": [],
   "source": [
    "%sql\n",
    "select * from wine_harmonization.datasets.recipes limit 10"
   ]
  }
 ],
 "metadata": {
  "application/vnd.databricks.v1+notebook": {
   "computePreferences": null,
   "dashboards": [],
   "environmentMetadata": {
    "base_environment": "",
    "environment_version": "2"
   },
   "inputWidgetPreferences": null,
   "language": "python",
   "notebookMetadata": {
    "mostRecentlyExecutedCommandWithImplicitDF": {
     "commandId": 8023300932153792,
     "dataframes": [
      "_sqldf"
     ]
    },
    "pythonIndentUnit": 4
   },
   "notebookName": "molecules-etl",
   "widgets": {}
  },
  "language_info": {
   "name": "python"
  }
 },
 "nbformat": 4,
 "nbformat_minor": 0
}
