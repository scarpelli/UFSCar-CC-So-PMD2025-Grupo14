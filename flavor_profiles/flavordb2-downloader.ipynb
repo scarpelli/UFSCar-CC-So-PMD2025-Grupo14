{
 "cells": [
  {
   "cell_type": "code",
   "execution_count": 0,
   "metadata": {
    "application/vnd.databricks.v1+cell": {
     "cellMetadata": {
      "byteLimit": 2048000,
      "rowLimit": 10000
     },
     "inputWidgets": {},
     "nuid": "34e6538a-7260-432a-a37a-52e979ca647d",
     "showTitle": false,
     "tableResultSettingsMap": {},
     "title": ""
    }
   },
   "outputs": [],
   "source": [
    "import os\n",
    "import requests\n",
    "import json\n",
    "from tqdm.auto import tqdm\n",
    "import time\n",
    "from pyspark.sql import SparkSession\n",
    "from pyspark.sql.functions import col, size"
   ]
  },
  {
   "cell_type": "code",
   "execution_count": 0,
   "metadata": {
    "application/vnd.databricks.v1+cell": {
     "cellMetadata": {
      "byteLimit": 2048000,
      "rowLimit": 10000
     },
     "inputWidgets": {},
     "nuid": "461be4b2-20ed-4513-a227-5c7040619c31",
     "showTitle": false,
     "tableResultSettingsMap": {},
     "title": ""
    }
   },
   "outputs": [],
   "source": [
    "DBFS_DIR = \"/Volumes/wine_harmonization/datasets/raw_datasets/flavor_profiles_v4\"\n",
    "if not os.path.exists(DBFS_DIR):\n",
    "    os.makedirs(DBFS_DIR)\n",
    "\n",
    "BASE_URL = \"https://cosylab.iiitd.edu.in/flavordb2\"\n",
    "ENTITY_URL = BASE_URL + \"/entities_json?id={}\""
   ]
  },
  {
   "cell_type": "code",
   "execution_count": 0,
   "metadata": {
    "application/vnd.databricks.v1+cell": {
     "cellMetadata": {
      "byteLimit": 2048000,
      "rowLimit": 10000
     },
     "inputWidgets": {},
     "nuid": "34b02ae2-4b41-403d-808a-3667897ec808",
     "showTitle": false,
     "tableResultSettingsMap": {},
     "title": ""
    }
   },
   "outputs": [],
   "source": [
    "def download_flavordb_data(max_id=10000, start_id=1):\n",
    "    successful_downloads = 0\n",
    "    failed_downloads = 0\n",
    "        \n",
    "    for entity_id in tqdm(range(start_id, max_id + 1), desc=\"Baixando dados\"):\n",
    "        try:\n",
    "            url = ENTITY_URL.format(entity_id)\n",
    "            \n",
    "            file_name = os.path.join(DBFS_DIR, f\"{entity_id}.json\")\n",
    "            if os.path.exists(file_name) and os.path.getsize(file_name) > 0:\n",
    "                successful_downloads += 1\n",
    "                continue\n",
    "            \n",
    "            response = requests.get(url, timeout=30)\n",
    "            \n",
    "            if response.status_code == 200:\n",
    "                data = response.json()\n",
    "                \n",
    "                if data and isinstance(data, dict):\n",
    "                    name_keys = [\"entity_alias_readable\", \"name\", \"entity_name\", \"title\"]\n",
    "                    entity_name = str(entity_id)\n",
    "                    \n",
    "                    for key in name_keys:\n",
    "                        if key in data and data[key]:\n",
    "                            entity_name = data[key]\n",
    "                            break\n",
    "                    \n",
    "                    with open(file_name, 'w', encoding='utf-8') as f:\n",
    "                        json.dump(data, f, indent=4, sort_keys=True, ensure_ascii=False)\n",
    "                    \n",
    "                    successful_downloads += 1\n",
    "                \n",
    "                else:\n",
    "                    failed_downloads += 1\n",
    "                    \n",
    "            else:\n",
    "                failed_downloads += 1\n",
    "                \n",
    "        except requests.exceptions.RequestException as e:\n",
    "            failed_downloads += 1\n",
    "                \n",
    "        except json.JSONDecodeError:\n",
    "            failed_downloads += 1\n",
    "            if entity_id % 1000 == 0:\n",
    "                \n",
    "        except Exception as e:\n",
    "            failed_downloads += 1\n",
    "            if entity_id % 1000 == 0:\n",
    "        \n",
    "        if entity_id % 10 == 0:\n",
    "            time.sleep(0.1)\n",
    "    \n",
    "    return successful_downloads, failed_downloads\n",
    "\n",
    "def check_existing_files():\n",
    "    if os.path.exists(DBFS_DIR):\n",
    "        files = [f for f in os.listdir(DBFS_DIR) if f.endswith('.json')]\n",
    "        \n",
    "        if files:\n",
    "            example_files = sorted(files)[:5]\n",
    "            \n",
    "            ids = []\n",
    "            for f in files:\n",
    "                try:\n",
    "                    file_id = int(f.replace('.json', ''))\n",
    "                    ids.append(file_id)\n",
    "                except ValueError:\n",
    "                    continue\n",
    "            \n",
    "            if ids:\n",
    "                max_existing = max(ids)\n",
    "                return max_existing\n",
    "    \n",
    "    return 0\n",
    "\n",
    "def sample_data():\n",
    "    files = [f for f in os.listdir(DBFS_DIR) if f.endswith('.json')]\n",
    "    if files:\n",
    "        sample_file = os.path.join(DBFS_DIR, files[0])\n",
    "        with open(sample_file, 'r', encoding='utf-8') as f:\n",
    "            data = json.load(f)\n",
    "        \n",
    "        important_keys = [\"entity_alias_readable\", \"name\", \"entity_name\", \"category\", \"flavor_profile\"]\n",
    "        for key in important_keys:\n",
    "            if key in data:\n",
    "                print(f\"{key}: {data[key]}\")\n",
    "\n",
    "if __name__ == \"__main__\":\n",
    "    print(\"=== FlavorDB2 Downloader ===\")\n",
    "    \n",
    "    max_existing = check_existing_files()\n",
    "    \n",
    "    START_ID = max_existing + 1 if max_existing > 0 else 1\n",
    "    MAX_ID = 1000\n",
    "    \n",
    "    successful, failed = download_flavordb_data(MAX_ID, START_ID)\n",
    "    \n",
    "    print(f\"\\n=== Final Results ===\")\n",
    "    print(f\"Successful downloads: {successful}\")\n",
    "    print(f\"Failed downloads: {failed}\")\n",
    "    print(f\"Files saved in: {DBFS_DIR}\")\n",
    "    \n",
    "    sample_data()\n",
    "    \n",
    "    print(\"\\nDownload completed!\")"
   ]
  }
 ],
 "metadata": {
  "application/vnd.databricks.v1+notebook": {
   "computePreferences": null,
   "dashboards": [],
   "environmentMetadata": {
    "base_environment": "",
    "environment_version": "2"
   },
   "inputWidgetPreferences": null,
   "language": "python",
   "notebookMetadata": {
    "pythonIndentUnit": 4
   },
   "notebookName": "flavordb2-downloader",
   "widgets": {}
  },
  "language_info": {
   "name": "python"
  }
 },
 "nbformat": 4,
 "nbformat_minor": 0
}
